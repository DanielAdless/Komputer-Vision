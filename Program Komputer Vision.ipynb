{
 "cells": [
  {
   "cell_type": "markdown",
   "id": "a2338cb8",
   "metadata": {},
   "source": [
    "**Pengolahan Gambar**"
   ]
  },
  {
   "cell_type": "code",
   "execution_count": null,
   "id": "1099e05b",
   "metadata": {},
   "outputs": [],
   "source": [
    "import cv2\n",
    "\n",
    "image = cv2.imread('dl.jpg')\n",
    "\n",
    "gray_image = cv2.cvtColor(image, cv2.COLOR_BGR2GRAY)\n",
    "\n",
    "inverted_image = cv2.bitwise_not(image)\n",
    "\n",
    "blurred_image = cv2.GaussianBlur(image, (15, 15), 0)\n",
    "\n",
    "cv2.imshow('Original Image', image)\n",
    "cv2.imshow('Grayscale Image', gray_image)\n",
    "cv2.imshow('Inverted Image', inverted_image)\n",
    "cv2.imshow('Blurred Image', blurred_image)\n",
    "\n",
    "cv2.waitKey(0)\n",
    "cv2.destroyAllWindows()"
   ]
  },
  {
   "cell_type": "markdown",
   "id": "9fa14605",
   "metadata": {},
   "source": [
    "**Deteksi Gerakan dalam Video**"
   ]
  },
  {
   "cell_type": "code",
   "execution_count": null,
   "id": "9d8ad9e7",
   "metadata": {},
   "outputs": [],
   "source": [
    "import numpy as np\n",
    "import cv2\n",
    "\n",
    "cap = cv2.VideoCapture('komputer vision.avi')\n",
    "\n",
    "frame_width = int(cap.get(cv2.CAP_PROP_FRAME_WIDTH))\n",
    "frame_height = int(cap.get(cv2.CAP_PROP_FRAME_HEIGHT))\n",
    "\n",
    "fourcc = cv2.VideoWriter_fourcc(*'XVID')\n",
    "out = cv2.VideoWriter('output.avi', fourcc, 5.0, (1280, 720))\n",
    "\n",
    "ret, frame1 = cap.read()\n",
    "ret, frame2 = cap.read()\n",
    "\n",
    "print(frame1.shape)\n",
    "\n",
    "while cap.isOpened():\n",
    "    diff = cv2.absdiff(frame1, frame2)\n",
    "    gray = cv2.cvtColor(diff, cv2.COLOR_BGR2GRAY)\n",
    "    blur = cv2.GaussianBlur(gray, (5, 5), 0)\n",
    "    _, thresh = cv2.threshold(blur, 20, 255, cv2.THRESH_BINARY)\n",
    "    dilated = cv2.dilate(thresh, None, iterations=3)\n",
    "    contours, _ = cv2.findContours(dilated, cv2.RETR_TREE, cv2.CHAIN_APPROX_SIMPLE)\n",
    "\n",
    "    for contour in contours:\n",
    "        if cv2.contourArea(contour) < 900:\n",
    "            continue\n",
    "        x, y, w, h = cv2.boundingRect(contour)\n",
    "        cv2.rectangle(frame1, (x, y), (x + w, y + h), (0, 255, 0), 2)\n",
    "        cv2.putText(frame1, \"Status: {}\".format('Movement'), (10, 20), cv2.FONT_HERSHEY_SIMPLEX, 1, (0, 0, 255), 3)\n",
    "\n",
    "    out.write(frame1)\n",
    "\n",
    "    cv2.imshow(\"feed\", frame1)\n",
    "\n",
    "    frame1 = frame2\n",
    "    ret, frame2 = cap.read()\n",
    "\n",
    "    if not ret:\n",
    "        break\n",
    "\n",
    "    if cv2.waitKey(30) & 0xFF == 27:\n",
    "        break\n",
    "\n",
    "cap.release()\n",
    "out.release()\n",
    "cv2.destroyAllWindows()"
   ]
  },
  {
   "cell_type": "markdown",
   "id": "ffe0fd6c",
   "metadata": {},
   "source": [
    "**Pengambilan Gambar Otomatis dengan Deteksi Wajah**"
   ]
  },
  {
   "cell_type": "code",
   "execution_count": null,
   "id": "998a2ffe",
   "metadata": {},
   "outputs": [],
   "source": [
    "import os\n",
    "import cv2\n",
    "import time\n",
    "import uuid\n",
    "import threading"
   ]
  },
  {
   "cell_type": "code",
   "execution_count": null,
   "id": "0904caf7",
   "metadata": {},
   "outputs": [],
   "source": [
    "# isi sesuai dengan lokasi folder di letakkan\n",
    "IMAGES_PATH = 'D:\\Kuliah\\Project UAS Komputer Vision\\Dokumen\\Tensorflow\\image'"
   ]
  },
  {
   "cell_type": "code",
   "execution_count": null,
   "id": "267ebc72",
   "metadata": {},
   "outputs": [],
   "source": [
    "# isi sesuai dengan nama gambar yg di input di folder\n",
    "labels = ['Ayo Berkelahi', 'Linggau Bisa', 'Oke Abangda Mantap', 'Diam']\n",
    "number_imgs = 15\n",
    "FRAME_WIDTH = 640\n",
    "FRAME_HEIGHT = 480\n",
    "SLEEP_TIME = 1  \n",
    "\n",
    "\n",
    "face_cascade = cv2.CascadeClassifier(cv2.data.haarcascades + 'haarcascade_frontalface_default.xml')\n",
    "\n",
    "\n",
    "def capture_images(label, num_images):\n",
    "    cap = cv2.VideoCapture(0)\n",
    "    cap.set(cv2.CAP_PROP_FRAME_WIDTH, FRAME_WIDTH)\n",
    "    cap.set(cv2.CAP_PROP_FRAME_HEIGHT, FRAME_HEIGHT)\n",
    "    \n",
    "    if not cap.isOpened():\n",
    "        print(f\"Failed to open camera for {label}\")\n",
    "        return\n",
    "    \n",
    "    print(f'Collecting images for {label}')\n",
    "    time.sleep(2)  \n",
    "    \n",
    "    for imgnum in range(num_images):\n",
    "        ret, frame = cap.read()\n",
    "        if not ret:\n",
    "            print(\"Failed to grab frame\")\n",
    "            break\n",
    "        \n",
    "        gray = cv2.cvtColor(frame, cv2.COLOR_BGR2GRAY)\n",
    "        faces = face_cascade.detectMultiScale(gray, 1.1, 4)\n",
    "        \n",
    "        for (x, y, w, h) in faces:\n",
    "            cv2.rectangle(frame, (x, y), (x+w, y+h), (0, 255, 0), 2)\n",
    "            cv2.putText(frame, \"Daniel\", (x, y-10), cv2.FONT_HERSHEY_SIMPLEX, 0.9, (0, 255, 0), 2)\n",
    "        \n",
    "        imgname = os.path.join(IMAGES_PATH, label, f'{label}.{str(uuid.uuid4())}.jpg')\n",
    "        cv2.imwrite(imgname, frame)\n",
    "        cv2.imshow('frame', frame)\n",
    "        time.sleep(SLEEP_TIME)\n",
    "        \n",
    "        if cv2.waitKey(1) & 0xFF == ord('q'):\n",
    "            break\n",
    "    \n",
    "    cap.release()\n",
    "    cv2.destroyAllWindows()\n",
    "\n",
    "\n",
    "for label in labels:\n",
    "    os.makedirs(os.path.join(IMAGES_PATH, label), exist_ok=True)\n",
    "\n",
    "for label in labels:\n",
    "    capture_images(label, number_imgs)"
   ]
  }
 ],
 "metadata": {
  "kernelspec": {
   "display_name": "Python 3 (ipykernel)",
   "language": "python",
   "name": "python3"
  },
  "language_info": {
   "codemirror_mode": {
    "name": "ipython",
    "version": 3
   },
   "file_extension": ".py",
   "mimetype": "text/x-python",
   "name": "python",
   "nbconvert_exporter": "python",
   "pygments_lexer": "ipython3",
   "version": "3.11.4"
  }
 },
 "nbformat": 4,
 "nbformat_minor": 5
}
